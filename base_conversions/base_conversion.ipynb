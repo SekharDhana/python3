{
  "nbformat": 4,
  "nbformat_minor": 0,
  "metadata": {
    "colab": {
      "name": "base_conversion.ipynb",
      "provenance": []
    },
    "kernelspec": {
      "name": "python3",
      "display_name": "Python 3"
    }
  },
  "cells": [
    {
      "cell_type": "code",
      "metadata": {
        "id": "LypxPBy8Bi1W",
        "colab_type": "code",
        "colab": {}
      },
      "source": [
        "class Conversion_numbers:\n",
        "\n",
        "  def convn(self,n,b):\n",
        "    mod = n//b\n",
        "    base = b\n",
        "    finalv = n%b\n",
        "    return (mod, base, finalv)\n",
        "\n",
        "  def convert(self,n,b):\n",
        "    final = []\n",
        "    while True:\n",
        "      a = self.convn(n,b)\n",
        "      n = a[0]\n",
        "      final.append(a[2])\n",
        "      if n == 0:\n",
        "        break\n",
        "    return final[::-1]"
      ],
      "execution_count": 6,
      "outputs": []
    },
    {
      "cell_type": "code",
      "metadata": {
        "id": "wLrhCVukBpz1",
        "colab_type": "code",
        "colab": {
          "base_uri": "https://localhost:8080/",
          "height": 34
        },
        "outputId": "0b93aaeb-7415-420c-c36d-9128141e0f5a"
      },
      "source": [
        "cn = Conversion_numbers()\n",
        "cn.convert(10,2)"
      ],
      "execution_count": 8,
      "outputs": [
        {
          "output_type": "execute_result",
          "data": {
            "text/plain": [
              "[1, 0, 1, 0]"
            ]
          },
          "metadata": {
            "tags": []
          },
          "execution_count": 8
        }
      ]
    },
    {
      "cell_type": "code",
      "metadata": {
        "id": "Ez5gLU8-Bs66",
        "colab_type": "code",
        "colab": {}
      },
      "source": [
        ""
      ],
      "execution_count": null,
      "outputs": []
    }
  ]
}